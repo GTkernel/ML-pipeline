{
 "cells": [
  {
   "cell_type": "code",
   "execution_count": 57,
   "metadata": {},
   "outputs": [],
   "source": [
    "import json"
   ]
  },
  {
   "cell_type": "code",
   "execution_count": 58,
   "metadata": {},
   "outputs": [],
   "source": [
    "time_to_name ={}\n",
    "timestamps = []\n",
    "annotation_types = []\n",
    "# read json file\n",
    "with open('/home/rbachkaniwala3/work/ml-pipeline-benchmark/pytorch_profile_log/withfetcher.json') as f:\n",
    "    data = json.load(f)\n",
    "    events = data['traceEvents']\n",
    "\n",
    "    # if user annotation is present, then store it in a dictionary from timestamp to name\n",
    "    for event in events:\n",
    "        if 'cat' in event and event['cat'] == 'user_annotation' and not event['name'].startswith('Profiler'):\n",
    "            annotation_types.append(event['name'])\n",
    "            if event['name'] == 'model_backward_pass':\n",
    "                timestamps.append(event['ts']+event['dur'])\n",
    "                time_to_name[event['ts']+event['dur']] = event['name']\n",
    "            else:\n",
    "                timestamps.append(event['ts'])\n",
    "                time_to_name[event['ts']] = event['name']"
   ]
  },
  {
   "cell_type": "code",
   "execution_count": 59,
   "metadata": {},
   "outputs": [
    {
     "data": {
      "text/plain": [
       "{'Optimizer.step#SGD.step',\n",
       " 'Optimizer.zero_grad#SGD.zero_grad',\n",
       " 'enumerate(DataLoader)#_MultiProcessingDataLoaderIter.__next__',\n",
       " 'model_backward_pass',\n",
       " 'model_forward_pass',\n",
       " 'move_data_to_device'}"
      ]
     },
     "execution_count": 59,
     "metadata": {},
     "output_type": "execute_result"
    }
   ],
   "source": [
    "set(annotation_types)"
   ]
  },
  {
   "cell_type": "code",
   "execution_count": 60,
   "metadata": {},
   "outputs": [],
   "source": [
    "timestamps.sort()"
   ]
  },
  {
   "cell_type": "code",
   "execution_count": 61,
   "metadata": {},
   "outputs": [
    {
     "data": {
      "text/plain": [
       "{1695502070438621: 'enumerate(DataLoader)#_MultiProcessingDataLoaderIter.__next__',\n",
       " 1695502071258368: 'move_data_to_device',\n",
       " 1695502071259178: 'model_forward_pass',\n",
       " 1695502073086562: 'model_backward_pass',\n",
       " 1695502072914683: 'Optimizer.zero_grad#SGD.zero_grad',\n",
       " 1695502073056365: 'Optimizer.step#SGD.step',\n",
       " 1695502073087716: 'enumerate(DataLoader)#_MultiProcessingDataLoaderIter.__next__',\n",
       " 1695502073087972: 'move_data_to_device',\n",
       " 1695502073088253: 'model_forward_pass',\n",
       " 1695502073128567: 'model_backward_pass',\n",
       " 1695502073120888: 'Optimizer.zero_grad#SGD.zero_grad',\n",
       " 1695502073126845: 'Optimizer.step#SGD.step',\n",
       " 1695502073128718: 'enumerate(DataLoader)#_MultiProcessingDataLoaderIter.__next__',\n",
       " 1695502073129091: 'move_data_to_device',\n",
       " 1695502073129249: 'model_forward_pass',\n",
       " 1695502073231589: 'model_backward_pass',\n",
       " 1695502073220799: 'Optimizer.zero_grad#SGD.zero_grad',\n",
       " 1695502073230077: 'Optimizer.step#SGD.step',\n",
       " 1695502073231662: 'enumerate(DataLoader)#_MultiProcessingDataLoaderIter.__next__',\n",
       " 1695502073231972: 'move_data_to_device',\n",
       " 1695502073232075: 'model_forward_pass',\n",
       " 1695502073325221: 'model_backward_pass',\n",
       " 1695502073318203: 'Optimizer.zero_grad#SGD.zero_grad',\n",
       " 1695502073324111: 'Optimizer.step#SGD.step',\n",
       " 1695502073325305: 'enumerate(DataLoader)#_MultiProcessingDataLoaderIter.__next__',\n",
       " 1695502073325556: 'move_data_to_device',\n",
       " 1695502073325881: 'model_forward_pass',\n",
       " 1695502073428868: 'model_backward_pass',\n",
       " 1695502073415523: 'Optimizer.zero_grad#SGD.zero_grad',\n",
       " 1695502073427578: 'Optimizer.step#SGD.step',\n",
       " 1695502073428962: 'enumerate(DataLoader)#_MultiProcessingDataLoaderIter.__next__',\n",
       " 1695502073429273: 'move_data_to_device',\n",
       " 1695502073429393: 'model_forward_pass',\n",
       " 1695502073526273: 'model_backward_pass',\n",
       " 1695502073513311: 'Optimizer.zero_grad#SGD.zero_grad',\n",
       " 1695502073524815: 'Optimizer.step#SGD.step',\n",
       " 1695502073526376: 'enumerate(DataLoader)#_MultiProcessingDataLoaderIter.__next__',\n",
       " 1695502073526797: 'move_data_to_device',\n",
       " 1695502073526979: 'model_forward_pass',\n",
       " 1695502073624842: 'model_backward_pass',\n",
       " 1695502073611049: 'Optimizer.zero_grad#SGD.zero_grad',\n",
       " 1695502073623499: 'Optimizer.step#SGD.step',\n",
       " 1695502073624955: 'enumerate(DataLoader)#_MultiProcessingDataLoaderIter.__next__',\n",
       " 1695502073625283: 'move_data_to_device',\n",
       " 1695502073625405: 'model_forward_pass',\n",
       " 1695502073726058: 'model_backward_pass',\n",
       " 1695502073712957: 'Optimizer.zero_grad#SGD.zero_grad',\n",
       " 1695502073724718: 'Optimizer.step#SGD.step',\n",
       " 1695502073726147: 'enumerate(DataLoader)#_MultiProcessingDataLoaderIter.__next__',\n",
       " 1695502073726469: 'move_data_to_device',\n",
       " 1695502073726587: 'model_forward_pass',\n",
       " 1695502073816344: 'model_backward_pass',\n",
       " 1695502073809194: 'Optimizer.zero_grad#SGD.zero_grad',\n",
       " 1695502073815285: 'Optimizer.step#SGD.step',\n",
       " 1695502073816444: 'enumerate(DataLoader)#_MultiProcessingDataLoaderIter.__next__',\n",
       " 1695502073828770: 'move_data_to_device',\n",
       " 1695502073828944: 'model_forward_pass',\n",
       " 1695502073915145: 'model_backward_pass',\n",
       " 1695502073907039: 'Optimizer.zero_grad#SGD.zero_grad',\n",
       " 1695502073914140: 'Optimizer.step#SGD.step',\n",
       " 1695502073915416: 'enumerate(DataLoader)#_MultiProcessingDataLoaderIter.__next__',\n",
       " 1695502073932822: 'move_data_to_device',\n",
       " 1695502073932996: 'model_forward_pass',\n",
       " 1695502074012547: 'model_backward_pass',\n",
       " 1695502074004492: 'Optimizer.zero_grad#SGD.zero_grad',\n",
       " 1695502074011064: 'Optimizer.step#SGD.step',\n",
       " 1695502074067508: 'enumerate(DataLoader)#_MultiProcessingDataLoaderIter.__next__',\n",
       " 1695502074078438: 'move_data_to_device',\n",
       " 1695502074078579: 'model_forward_pass',\n",
       " 1695502074122768: 'model_backward_pass',\n",
       " 1695502074113364: 'Optimizer.zero_grad#SGD.zero_grad',\n",
       " 1695502074121159: 'Optimizer.step#SGD.step'}"
      ]
     },
     "execution_count": 61,
     "metadata": {},
     "output_type": "execute_result"
    }
   ],
   "source": [
    "time_to_name"
   ]
  },
  {
   "cell_type": "code",
   "execution_count": 62,
   "metadata": {},
   "outputs": [
    {
     "name": "stdout",
     "output_type": "stream",
     "text": [
      "1827384\n",
      "40314\n",
      "102340\n",
      "93146\n",
      "102987\n",
      "96880\n",
      "97863\n",
      "100653\n",
      "89757\n",
      "86201\n",
      "79551\n",
      "44189\n"
     ]
    }
   ],
   "source": [
    "time_to_train_on_gpu = []\n",
    "for timestamp in timestamps:\n",
    "    if time_to_name[timestamp] == 'model_forward_pass':\n",
    "        start = timestamp\n",
    "    elif time_to_name[timestamp] == 'model_backward_pass':\n",
    "        end = timestamp\n",
    "        time_to_train_on_gpu.append(end - start)\n",
    "        print(end - start)\n"
   ]
  },
  {
   "cell_type": "code",
   "execution_count": 63,
   "metadata": {},
   "outputs": [
    {
     "name": "stdout",
     "output_type": "stream",
     "text": [
      "230105.41666666666\n"
     ]
    }
   ],
   "source": [
    "print(sum(time_to_train_on_gpu)/len(time_to_train_on_gpu))\n",
    "\n"
   ]
  }
 ],
 "metadata": {
  "kernelspec": {
   "display_name": "da",
   "language": "python",
   "name": "python3"
  },
  "language_info": {
   "codemirror_mode": {
    "name": "ipython",
    "version": 3
   },
   "file_extension": ".py",
   "mimetype": "text/x-python",
   "name": "python",
   "nbconvert_exporter": "python",
   "pygments_lexer": "ipython3",
   "version": "3.10.11"
  },
  "orig_nbformat": 4
 },
 "nbformat": 4,
 "nbformat_minor": 2
}

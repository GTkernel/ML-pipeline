{
 "cells": [
  {
   "cell_type": "code",
   "execution_count": 4,
   "metadata": {},
   "outputs": [],
   "source": [
    "from PIL import Image\n",
    "import random\n",
    "import io\n",
    "import os"
   ]
  },
  {
   "cell_type": "code",
   "execution_count": 50,
   "metadata": {},
   "outputs": [],
   "source": [
    "\n",
    "\n",
    "# Create a new image with random RGB values\n",
    "width = random.randint(100, 1000)  # Random width between 100 and 1000 pixels\n",
    "height = random.randint(100, 1000)  # Random height between 100 and 1000 pixels\n",
    "# (65500, 10300) for 10 MB\n",
    "image_1mb = Image.new('RGB', (10000, 7000), (random.randint(0, 255), random.randint(0, 255), random.randint(0, 255)))\n",
    "image_10mb = Image.new('RGB', (65500, 10300), (random.randint(0, 255), random.randint(0, 255), random.randint(0, 255)))\n",
    "\n",
    "# Save the image to a memory buffer\n",
    "buffer_1mb = io.BytesIO()\n",
    "buffer_10mb = io.BytesIO()\n",
    "image_1mb.save(buffer_1mb, format='JPEG')\n",
    "image_10mb.save(buffer_10mb, format='JPEG')\n",
    "\n",
    "# Check the size of the image in bytes\n",
    "image_size_1mb = buffer_1mb.getbuffer().nbytes\n",
    "image_size_10mb = buffer_10mb.getbuffer().nbytes\n",
    "\n",
    "# If the size is close to the target, save the image and exit\n",
    "# if abs(image_size - target_size) < target_size * 0.1:\n",
    "with open('random_image1MB.jpg', 'wb') as f:\n",
    "    f.write(buffer_1mb.getbuffer())\n",
    "\n",
    "with open('random_image10MB.jpg', 'wb') as f:\n",
    "    f.write(buffer_10mb.getbuffer())\n"
   ]
  },
  {
   "cell_type": "code",
   "execution_count": 53,
   "metadata": {},
   "outputs": [
    {
     "name": "stdout",
     "output_type": "stream",
     "text": [
      "1.0448732376098633\n",
      "10.058185577392578\n"
     ]
    }
   ],
   "source": [
    "# print file size of image\n",
    "print(os.path.getsize('random_image1MB.jpg')/1024/1024)\n",
    "print(os.path.getsize('random_image10MB.jpg')/1024/1024)"
   ]
  }
 ],
 "metadata": {
  "kernelspec": {
   "display_name": "base",
   "language": "python",
   "name": "python3"
  },
  "language_info": {
   "codemirror_mode": {
    "name": "ipython",
    "version": 3
   },
   "file_extension": ".py",
   "mimetype": "text/x-python",
   "name": "python",
   "nbconvert_exporter": "python",
   "pygments_lexer": "ipython3",
   "version": "3.9.13"
  },
  "orig_nbformat": 4
 },
 "nbformat": 4,
 "nbformat_minor": 2
}

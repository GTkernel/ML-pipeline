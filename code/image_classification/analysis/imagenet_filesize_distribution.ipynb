{
 "cells": [
  {
   "cell_type": "code",
   "execution_count": 25,
   "metadata": {},
   "outputs": [],
   "source": [
    "import os\n",
    "# plot the distribution of JPEG file sizes with matplotlib with interval size 100\n",
    "import matplotlib.pyplot as plt"
   ]
  },
  {
   "cell_type": "code",
   "execution_count": 26,
   "metadata": {},
   "outputs": [
    {
     "name": "stdout",
     "output_type": "stream",
     "text": [
      "Sizes of JPEG files in /mydata/imagenet/train/: 1281167\n"
     ]
    }
   ],
   "source": [
    "\n",
    "def get_jpeg_sizes(path):\n",
    "    sizes = []\n",
    "    for dirpath, dirnames, filenames in os.walk(path):\n",
    "        for filename in filenames:\n",
    "            if filename.lower().endswith('.jpeg'):\n",
    "                filepath = os.path.join(dirpath, filename)\n",
    "                sizes.append(os.path.getsize(filepath))\n",
    "    return sizes\n",
    "\n",
    "path = '/mydata/imagenet/train/'\n",
    "jpeg_sizes = get_jpeg_sizes(path)\n",
    "print(f'Sizes of JPEG files in {path}: {len(jpeg_sizes)}')"
   ]
  },
  {
   "cell_type": "code",
   "execution_count": 27,
   "metadata": {},
   "outputs": [],
   "source": [
    "# sort the sizes\n",
    "jpeg_sizes.sort()"
   ]
  },
  {
   "cell_type": "code",
   "execution_count": 28,
   "metadata": {},
   "outputs": [
    {
     "name": "stdout",
     "output_type": "stream",
     "text": [
      "min file size and max file size: 508 and 15737107\n",
      "gap size: 12.2830193097387\n"
     ]
    }
   ],
   "source": [
    "print(f\"min file size and max file size: {min(jpeg_sizes)} and {max(jpeg_sizes)}\")\n",
    "print(f\"gap size: {(max(jpeg_sizes) - min(jpeg_sizes))/len(jpeg_sizes)}\")"
   ]
  },
  {
   "attachments": {},
   "cell_type": "markdown",
   "metadata": {},
   "source": [
    "![Alt text](https://i0.wp.com/batman-news.com/wp-content/uploads/2019/03/Gotham-season-5-promo-poster-batman-featured.jpg?w%3D640%26quality%3D80%26strip%3Dinfo%26ssl%3D1)"
   ]
  },
  {
   "cell_type": "code",
   "execution_count": 14,
   "metadata": {},
   "outputs": [
    {
     "data": {
      "image/png": "[encoded data removed]",
      "text/plain": [
       "<Figure size 640x480 with 1 Axes>"
      ]
     },
     "metadata": {},
     "output_type": "display_data"
    }
   ],
   "source": [
    "# add lo scale on x-axis\n",
    "plt.xscale('log')\n",
    "plt.hist(jpeg_sizes, bins=range(min(jpeg_sizes),max(jpeg_sizes), 100))\n",
    "plt.show()\n"
   ]
  },
  {
   "cell_type": "code",
   "execution_count": 17,
   "metadata": {},
   "outputs": [
    {
     "name": "stdout",
     "output_type": "stream",
     "text": [
      "99% of the files are less than 354.375 KB in size\n"
     ]
    }
   ],
   "source": [
    "# 99% of the files are less than 370KB in size\n",
    "print(f\"99% of the files are less than {jpeg_sizes[int(len(jpeg_sizes)*0.99)]/1024} KB in size\")"
   ]
  },
  {
   "cell_type": "code",
   "execution_count": 29,
   "metadata": {},
   "outputs": [
    {
     "name": "stdout",
     "output_type": "stream",
     "text": [
      "Sizes of JPEG files in /mydata/imagenet/val/: 50000\n"
     ]
    }
   ],
   "source": [
    "path_val = '/mydata/imagenet/val/'\n",
    "jpeg_sizes_val = get_jpeg_sizes(path_val)\n",
    "print(f'Sizes of JPEG files in {path_val}: {len(jpeg_sizes_val)}')"
   ]
  },
  {
   "cell_type": "code",
   "execution_count": 30,
   "metadata": {},
   "outputs": [],
   "source": [
    "jpeg_sizes_val.sort()"
   ]
  },
  {
   "cell_type": "code",
   "execution_count": 31,
   "metadata": {},
   "outputs": [
    {
     "name": "stdout",
     "output_type": "stream",
     "text": [
      "min file size and max file size: 986 and 7578085\n",
      "gap size: 151.54198\n"
     ]
    }
   ],
   "source": [
    "print(f\"min file size and max file size: {min(jpeg_sizes_test)} and {max(jpeg_sizes_test)}\")\n",
    "print(f\"gap size: {(max(jpeg_sizes_test) - min(jpeg_sizes_test))/len(jpeg_sizes_test)}\")"
   ]
  },
  {
   "cell_type": "code",
   "execution_count": 32,
   "metadata": {},
   "outputs": [
    {
     "name": "stdout",
     "output_type": "stream",
     "text": [
      "99% of the files are less than 327.6298828125 KB in size\n"
     ]
    }
   ],
   "source": [
    "print(f\"99% of the files are less than {jpeg_sizes_val[int(len(jpeg_sizes_val)*0.99)]/1024} KB in size\")"
   ]
  },
  {
   "cell_type": "code",
   "execution_count": 23,
   "metadata": {},
   "outputs": [
    {
     "data": {
      "image/png": "[encoded data removed]",
      "text/plain": [
       "<Figure size 640x480 with 1 Axes>"
      ]
     },
     "metadata": {},
     "output_type": "display_data"
    }
   ],
   "source": [
    "# add lo scale on x-axis\n",
    "plt.xscale('log')\n",
    "plt.hist(jpeg_sizes_test, bins=range(min(jpeg_sizes_val), 350000, 100))\n",
    "plt.show()"
   ]
  },
  {
   "cell_type": "code",
   "execution_count": 34,
   "metadata": {},
   "outputs": [
    {
     "ename": "TypeError",
     "evalue": "cannot unpack non-iterable int object",
     "output_type": "error",
     "traceback": [
      "\u001b[0;31m---------------------------------------------------------------------------\u001b[0m",
      "\u001b[0;31mTypeError\u001b[0m                                 Traceback (most recent call last)",
      "\u001b[0;32m/tmp/ipykernel_917499/2257382298.py\u001b[0m in \u001b[0;36m<module>\u001b[0;34m\u001b[0m\n\u001b[1;32m      1\u001b[0m \u001b[0;31m# enumerate jpeg_sizes and find an element that is greater than 1024, 1024*1024, 1024*1024*1024\u001b[0m\u001b[0;34m\u001b[0m\u001b[0;34m\u001b[0m\u001b[0m\n\u001b[0;32m----> 2\u001b[0;31m \u001b[0;32mfor\u001b[0m \u001b[0mi\u001b[0m\u001b[0;34m,\u001b[0m \u001b[0;34m(\u001b[0m\u001b[0msize\u001b[0m\u001b[0;34m,\u001b[0m\u001b[0mfile_path\u001b[0m\u001b[0;34m)\u001b[0m \u001b[0;32min\u001b[0m \u001b[0menumerate\u001b[0m\u001b[0;34m(\u001b[0m\u001b[0mjpeg_sizes\u001b[0m\u001b[0;34m)\u001b[0m\u001b[0;34m:\u001b[0m\u001b[0;34m\u001b[0m\u001b[0;34m\u001b[0m\u001b[0m\n\u001b[0m\u001b[1;32m      3\u001b[0m     \u001b[0;32mif\u001b[0m \u001b[0msize\u001b[0m \u001b[0;34m>\u001b[0m \u001b[0;36m10\u001b[0m\u001b[0;34m**\u001b[0m\u001b[0;36m3\u001b[0m\u001b[0;34m:\u001b[0m\u001b[0;34m\u001b[0m\u001b[0;34m\u001b[0m\u001b[0m\n\u001b[1;32m      4\u001b[0m         \u001b[0mprint\u001b[0m\u001b[0;34m(\u001b[0m\u001b[0;34mf\"index: {i}, size: {file_path}\"\u001b[0m\u001b[0;34m)\u001b[0m\u001b[0;34m\u001b[0m\u001b[0;34m\u001b[0m\u001b[0m\n\u001b[1;32m      5\u001b[0m         \u001b[0;32mbreak\u001b[0m\u001b[0;34m\u001b[0m\u001b[0;34m\u001b[0m\u001b[0m\n",
      "\u001b[0;31mTypeError\u001b[0m: cannot unpack non-iterable int object"
     ]
    }
   ],
   "source": [
    "# # enumerate jpeg_sizes and find an element that is greater than 1024, 1024*1024, 1024*1024*1024\n",
    "# for i, (size,file_path) in enumerate(jpeg_sizes):\n",
    "#     if size > 10**3:\n",
    "#         print(f\"index: {i}, size: {file_path}\")\n",
    "#         break\n",
    "# for i, (size,file_path) in enumerate(jpeg_sizes):\n",
    "#     if size > 10**4:\n",
    "#         print(f\"index: {i}, size: {file_path}\")\n",
    "#         break\n",
    "# for i, (size,file_path) in enumerate(jpeg_sizes):\n",
    "#     if size > 10**5:\n",
    "#         print(f\"index: {i}, size: {file_path}\")\n",
    "#         break\n",
    "# for i, (size,file_path) in enumerate(jpeg_sizes):\n",
    "#     if size > 10**6:\n",
    "#         print(f\"index: {i}, size: {file_path}\")\n",
    "#         break\n",
    "# for i, (size,file_path) in enumerate(jpeg_sizes):\n",
    "#     if size > 10**7:\n",
    "#         print(f\"index: {i}, size: {file_path}\")\n",
    "#         break\n",
    "# for i, (size,file_path) in enumerate(jpeg_sizes):\n",
    "#     if size > 10**8:\n",
    "#         print(f\"index: {i}, size: {file_path}\")\n",
    "#         break\n",
    "# # enumerate jpeg_sizes and find an element that is greater than 1024, 1024*1024, 1024*1024*1024\n",
    "# for i, (size,file_path) in enumerate(jpeg_sizes_test):\n",
    "#     if size > 10**3:\n",
    "#         print(f\"index: {i}, size: {file_path}\")\n",
    "#         break\n",
    "# for i, (size,file_path) in enumerate(jpeg_sizes_test):\n",
    "#     if size > 10**4:\n",
    "#         print(f\"index: {i}, size: {file_path}\")\n",
    "#         break\n",
    "# for i, (size,file_path) in enumerate(jpeg_sizes_test):\n",
    "#     if size > 10**5:\n",
    "#         print(f\"index: {i}, size: {file_path}\")\n",
    "#         break\n",
    "# for i, (size,file_path) in enumerate(jpeg_sizes_test):\n",
    "#     if size > 10**6:\n",
    "#         print(f\"index: {i}, size: {file_path}\")\n",
    "#         break\n",
    "# for i, (size,file_path) in enumerate(jpeg_sizes_test):\n",
    "#     if size > 10**7:\n",
    "#         print(f\"index: {i}, size: {file_path}\")\n",
    "#         break\n",
    "# for i, (size,file_path) in enumerate(jpeg_sizes_test):\n",
    "#     if size > 10**8:\n",
    "#         print(f\"index: {i}, size: {file_path}\")\n",
    "#         break"
   ]
  }
 ],
 "metadata": {
  "kernelspec": {
   "display_name": "base",
   "language": "python",
   "name": "python3"
  },
  "language_info": {
   "codemirror_mode": {
    "name": "ipython",
    "version": 3
   },
   "file_extension": ".py",
   "mimetype": "text/x-python",
   "name": "python",
   "nbconvert_exporter": "python",
   "pygments_lexer": "ipython3",
   "version": "3.9.13"
  },
  "orig_nbformat": 4
 },
 "nbformat": 4,
 "nbformat_minor": 2
}
